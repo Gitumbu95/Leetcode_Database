{
  "nbformat": 4,
  "nbformat_minor": 0,
  "metadata": {
    "colab": {
      "provenance": [],
      "authorship_tag": "ABX9TyP9uo5ZTIkHhLvCGFS7XTf/",
      "include_colab_link": true
    },
    "kernelspec": {
      "name": "python3",
      "display_name": "Python 3"
    },
    "language_info": {
      "name": "python"
    }
  },
  "cells": [
    {
      "cell_type": "markdown",
      "metadata": {
        "id": "view-in-github",
        "colab_type": "text"
      },
      "source": [
        "<a href=\"https://colab.research.google.com/github/Gitumbu95/Leetcode_Database/blob/main/Array_leetcode.ipynb\" target=\"_parent\"><img src=\"https://colab.research.google.com/assets/colab-badge.svg\" alt=\"Open In Colab\"/></a>"
      ]
    },
    {
      "cell_type": "markdown",
      "source": [
        "217. Contains Duplicate\n",
        "Given an integer array nums, return true if any value appears at least twice in the array, and return false if every element is distinct.\n",
        "\n",
        "Input: nums = [1,2,3,1]\n",
        "Output: true"
      ],
      "metadata": {
        "id": "TLV5jzwrgfvc"
      }
    },
    {
      "cell_type": "code",
      "source": [
        "# solution\n",
        "class Solution:\n",
        "  def Duplicate(self, nums: int ) -> bool:\n",
        "\n",
        "    return len(nums) != len(set(nums))\n",
        "\n",
        "nums = [1,2,3,4]\n",
        "\n",
        "#create a class instance and calls duplicate method\n",
        "print(Solution().Duplicate(nums))\n"
      ],
      "metadata": {
        "id": "_7xbtW-SUD9T",
        "colab": {
          "base_uri": "https://localhost:8080/"
        },
        "outputId": "b93ab077-9952-4261-97d7-0c1bad3fb406"
      },
      "execution_count": 21,
      "outputs": [
        {
          "output_type": "stream",
          "name": "stdout",
          "text": [
            "False\n"
          ]
        }
      ]
    },
    {
      "cell_type": "code",
      "source": [
        "class Solution:\n",
        "  def ContainsDuplicate(self, nums: int) -> bool:\n",
        "    h =set()\n",
        "\n",
        "    for num in nums:\n",
        "      if num in h:\n",
        "        return True\n",
        "\n",
        "      else:\n",
        "        h.add(num)\n",
        "\n",
        "    return False\n",
        "\n",
        "nums = [1,2,3,2]\n",
        "## Create an instance of the Solution class\n",
        "sol =Solution()\n",
        "# Call the Duplicate method on the instance\n",
        "print(sol.ContainsDuplicate(nums))"
      ],
      "metadata": {
        "colab": {
          "base_uri": "https://localhost:8080/"
        },
        "id": "RL7WBfmdbRay",
        "outputId": "a7d8e977-4d58-460a-9c84-f696f317ff22"
      },
      "execution_count": 23,
      "outputs": [
        {
          "output_type": "stream",
          "name": "stdout",
          "text": [
            "True\n"
          ]
        }
      ]
    }
  ]
}